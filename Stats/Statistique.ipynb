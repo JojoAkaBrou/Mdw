{
 "cells": [
  {
   "cell_type": "markdown",
   "metadata": {},
   "source": [
    "# Import des modules"
   ]
  },
  {
   "cell_type": "code",
   "execution_count": 1,
   "metadata": {},
   "outputs": [
    {
     "name": "stderr",
     "output_type": "stream",
     "text": [
      "C:\\Users\\joaka\\anaconda3\\lib\\site-packages\\sklearn\\utils\\deprecation.py:144: FutureWarning: The sklearn.datasets.samples_generator module is  deprecated in version 0.22 and will be removed in version 0.24. The corresponding classes / functions should instead be imported from sklearn.datasets. Anything that cannot be imported from sklearn.datasets is now part of the private API.\n",
      "  warnings.warn(message, FutureWarning)\n"
     ]
    }
   ],
   "source": [
    "import pandas as pd\n",
    "import numpy as np\n",
    "from scipy.spatial import cKDTree\n",
    "from sklearn.cluster import KMeans\n",
    "from sklearn.neighbors import NearestNeighbors\n",
    "from matplotlib import pyplot as plt\n",
    "from sklearn.datasets.samples_generator import make_blobs\n",
    "from sklearn.cluster import KMeans\n",
    "import json"
   ]
  },
  {
   "cell_type": "markdown",
   "metadata": {},
   "source": [
    "# Lecture des données"
   ]
  },
  {
   "cell_type": "code",
   "execution_count": 2,
   "metadata": {},
   "outputs": [],
   "source": [
    "db = pd.read_csv(\"../Ars_data_v_2/output_data.csv\", encoding=\"utf-8\", low_memory=False)\n",
    "db.drop(db.columns[0], axis=1, inplace=True)"
   ]
  },
  {
   "cell_type": "markdown",
   "metadata": {},
   "source": [
    "# Features engineering"
   ]
  },
  {
   "cell_type": "code",
   "execution_count": 3,
   "metadata": {},
   "outputs": [],
   "source": [
    "code_dep = set(db['code_dep'])\n",
    "db['PGP19_>60'].fillna(0, inplace=True)\n",
    "for code in code_dep:\n",
    "    db_temp = db[db['code_dep'] == code]\n",
    "    sum_pop = db_temp['PM16'].sum()\n",
    "    db.loc[(db['code_dep'] == code),'PPMsD16']= db['PM16']/sum_pop\n",
    "db=db.where(pd.notnull(db), None)\n",
    "db=db.dropna()"
   ]
  },
  {
   "cell_type": "markdown",
   "metadata": {},
   "source": [
    "# Séparation des données"
   ]
  },
  {
   "cell_type": "code",
   "execution_count": 4,
   "metadata": {},
   "outputs": [],
   "source": [
    "var_desc = db[[\"Nom_com\",\"code_dep\",\"code_commune_INSEE\",\n",
    "               \"nom_departement\",\"nom_region\",\"code_postal\",\"code_region\",\"PM16\"]] \n",
    "var_num = db[[\"RFM16\",\"TN16\",\"PPMsD16\",\"NSP19\",\"DP16\",\"PGP19\",\"PGP19_>60\",\n",
    "              \"PC16_24_64\",\"PC16_15_24\",\"PPop16_<18\",\"PPop16_>65\",\"PRP16\"]]\n",
    "X = var_num"
   ]
  },
  {
   "cell_type": "markdown",
   "metadata": {},
   "source": [
    "# Calcule des valeurs à afficher"
   ]
  },
  {
   "cell_type": "code",
   "execution_count": 5,
   "metadata": {},
   "outputs": [],
   "source": [
    "# median_sup = var_num.median()\n",
    "# std = var_num.std()\n",
    "# first_q = var_num.quantile(0.25)\n",
    "# third_q = var_num.quantile(0.75)"
   ]
  },
  {
   "cell_type": "code",
   "execution_count": 6,
   "metadata": {},
   "outputs": [],
   "source": [
    "# def calcule_indicateur(df):\n",
    "#     i = 0\n",
    "#     colnames = df.columns\n",
    "#     for colname in colnames:\n",
    "#         df[colname] = df[colname].apply(lambda x: 1 if(x>median[i] + std[i]) else \n",
    "#                                         (-1 if(x<median[i] - std[i]) else 0))\n",
    "#         i+=1\n",
    "#     return df"
   ]
  },
  {
   "cell_type": "code",
   "execution_count": 7,
   "metadata": {},
   "outputs": [],
   "source": [
    "# display_value = calcule_indicateur(X)"
   ]
  },
  {
   "cell_type": "code",
   "execution_count": 8,
   "metadata": {},
   "outputs": [],
   "source": [
    "# col_sum = display_value.sum(axis=1)"
   ]
  },
  {
   "cell_type": "code",
   "execution_count": 9,
   "metadata": {},
   "outputs": [],
   "source": [
    "# final = pd.concat([var_desc,display_value],axis=1)\n",
    "# final['Score'] = col_sum/len(var_num.columns)"
   ]
  },
  {
   "cell_type": "markdown",
   "metadata": {},
   "source": [
    "Pour Théo (Auto Complétion)"
   ]
  },
  {
   "cell_type": "code",
   "execution_count": 10,
   "metadata": {},
   "outputs": [],
   "source": [
    "# final['Nom_com'].to_csv(\"liste_des_communes\", sep=\",\")"
   ]
  },
  {
   "cell_type": "markdown",
   "metadata": {},
   "source": [
    "# Export en json"
   ]
  },
  {
   "cell_type": "code",
   "execution_count": 11,
   "metadata": {},
   "outputs": [],
   "source": [
    "# d = db.set_index(\"Nom_com\").T.to_dict()"
   ]
  },
  {
   "cell_type": "code",
   "execution_count": 12,
   "metadata": {
    "scrolled": false
   },
   "outputs": [],
   "source": [
    "# with open('data.json', 'w', encoding='utf8') as file:\n",
    "#      file.write(json.dumps(d, ensure_ascii=False))"
   ]
  },
  {
   "cell_type": "markdown",
   "metadata": {},
   "source": [
    "# Classification"
   ]
  },
  {
   "cell_type": "code",
   "execution_count": 13,
   "metadata": {},
   "outputs": [],
   "source": [
    "# kmeans = KMeans(n_clusters=12,init='k-means++', n_init=10, random_state=0)"
   ]
  },
  {
   "cell_type": "code",
   "execution_count": 14,
   "metadata": {
    "scrolled": true
   },
   "outputs": [],
   "source": [
    "# kmeans.fit(X)"
   ]
  },
  {
   "cell_type": "code",
   "execution_count": 15,
   "metadata": {},
   "outputs": [],
   "source": [
    "# wcss = []\n",
    "# for i in range(1, 50):\n",
    "#     kmeans = KMeans(n_clusters=i,init='k-means++', n_init=10, random_state=0)\n",
    "#     kmeans.fit(X)\n",
    "#     wcss.append(kmeans.inertia_)\n",
    "# plt.plot(range(1, 30), wcss)\n",
    "# plt.title('Elbow Method')\n",
    "# plt.xlabel('Number of clusters')\n",
    "# plt.ylabel('WCSS')\n",
    "# plt.show()"
   ]
  },
  {
   "cell_type": "markdown",
   "metadata": {},
   "source": [
    "# Plus proche voisins"
   ]
  },
  {
   "cell_type": "code",
   "execution_count": 16,
   "metadata": {},
   "outputs": [
    {
     "data": {
      "text/plain": [
       "array([[    0, 20752, 19981, 17452, 14640,   336],\n",
       "       [    1,  5778, 17396,  2491, 28474, 28902],\n",
       "       [    2,  4786, 17513, 21510, 16863, 21083],\n",
       "       ...,\n",
       "       [29356, 17915, 22615, 18687, 20182, 22654],\n",
       "       [29357,   151, 25707,  5538, 13833, 23545],\n",
       "       [29358, 17184,  9424,  6930, 25597,  7136]], dtype=int64)"
      ]
     },
     "execution_count": 16,
     "metadata": {},
     "output_type": "execute_result"
    }
   ],
   "source": [
    "nbrs = NearestNeighbors(n_neighbors=6, algorithm='kd_tree').fit(X)\n",
    "distances, indices = nbrs.kneighbors(X)\n",
    "indices"
   ]
  },
  {
   "cell_type": "code",
   "execution_count": 17,
   "metadata": {},
   "outputs": [],
   "source": [
    "proche_voisin = []\n",
    "for i in range(len(db.index)):\n",
    "    proche_voisin.append(list(db.iloc[indices[i][1:]]['Nom_com']))"
   ]
  },
  {
   "cell_type": "code",
   "execution_count": 18,
   "metadata": {},
   "outputs": [],
   "source": [
    "db['Proche_voisin'] = proche_voisin"
   ]
  },
  {
   "cell_type": "code",
   "execution_count": 19,
   "metadata": {},
   "outputs": [
    {
     "name": "stderr",
     "output_type": "stream",
     "text": [
      "C:\\Users\\joaka\\anaconda3\\lib\\site-packages\\ipykernel_launcher.py:1: UserWarning: DataFrame columns are not unique, some columns will be omitted.\n",
      "  \"\"\"Entry point for launching an IPython kernel.\n"
     ]
    }
   ],
   "source": [
    "d = db.set_index(\"Nom_com\").T.to_dict()"
   ]
  },
  {
   "cell_type": "markdown",
   "metadata": {},
   "source": [
    "Extraction des seuils pour clément"
   ]
  },
  {
   "cell_type": "code",
   "execution_count": 20,
   "metadata": {},
   "outputs": [],
   "source": [
    "# d = {}\n",
    "# for name in X.columns:\n",
    "#     median = X[name].median()\n",
    "#     sd = X[name].std()\n",
    "#     d[name] = [{'25%':X[name].quantile(0.25),'50%':X[name].quantile(0.5),'75%':X[name].quantile(0.75),'sd':sd}]"
   ]
  },
  {
   "cell_type": "code",
   "execution_count": 21,
   "metadata": {},
   "outputs": [],
   "source": [
    "# with open('exemple_seuil.json', 'w', encoding='utf8') as file:\n",
    "#      file.write(json.dumps(d, ensure_ascii=False))"
   ]
  },
  {
   "cell_type": "code",
   "execution_count": 22,
   "metadata": {},
   "outputs": [],
   "source": [
    "with open('final_data.json', 'w', encoding='utf8') as file:\n",
    "    file.write(json.dumps(d, ensure_ascii=False))"
   ]
  }
 ],
 "metadata": {
  "kernelspec": {
   "display_name": "Python 3",
   "language": "python",
   "name": "python3"
  },
  "language_info": {
   "codemirror_mode": {
    "name": "ipython",
    "version": 3
   },
   "file_extension": ".py",
   "mimetype": "text/x-python",
   "name": "python",
   "nbconvert_exporter": "python",
   "pygments_lexer": "ipython3",
   "version": "3.7.6"
  }
 },
 "nbformat": 4,
 "nbformat_minor": 4
}
