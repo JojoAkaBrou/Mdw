{
 "cells": [
  {
   "cell_type": "markdown",
   "metadata": {},
   "source": [
    "# Import des modules"
   ]
  },
  {
   "cell_type": "code",
   "execution_count": 79,
   "metadata": {},
   "outputs": [],
   "source": [
    "import pandas as pd\n",
    "import numpy as np\n",
    "import json"
   ]
  },
  {
   "cell_type": "markdown",
   "metadata": {},
   "source": [
    "# Lecture des données"
   ]
  },
  {
   "cell_type": "code",
   "execution_count": 96,
   "metadata": {},
   "outputs": [],
   "source": [
    "db = pd.read_csv(\"../Ars_data_v_2/output_data.csv\", encoding=\"utf-8\", low_memory=False)\n",
    "db.drop(db.columns[0], axis=1, inplace=True)"
   ]
  },
  {
   "cell_type": "markdown",
   "metadata": {},
   "source": [
    "# Vue sur les données"
   ]
  },
  {
   "cell_type": "code",
   "execution_count": 77,
   "metadata": {
    "collapsed": true
   },
   "outputs": [
    {
     "data": {
      "text/html": [
       "<div>\n",
       "<style scoped>\n",
       "    .dataframe tbody tr th:only-of-type {\n",
       "        vertical-align: middle;\n",
       "    }\n",
       "\n",
       "    .dataframe tbody tr th {\n",
       "        vertical-align: top;\n",
       "    }\n",
       "\n",
       "    .dataframe thead th {\n",
       "        text-align: right;\n",
       "    }\n",
       "</style>\n",
       "<table border=\"1\" class=\"dataframe\">\n",
       "  <thead>\n",
       "    <tr style=\"text-align: right;\">\n",
       "      <th></th>\n",
       "      <th>Nom_com</th>\n",
       "      <th>RFM16</th>\n",
       "      <th>TN16</th>\n",
       "      <th>PM16</th>\n",
       "      <th>NSP19</th>\n",
       "      <th>DP16</th>\n",
       "      <th>PGP19</th>\n",
       "      <th>PGP19_&gt;60</th>\n",
       "      <th>PC16_15_24</th>\n",
       "      <th>PC16_24_64</th>\n",
       "      <th>PPop16_&lt;18</th>\n",
       "      <th>PPop16_&gt;65</th>\n",
       "      <th>PRP16</th>\n",
       "      <th>code_dep</th>\n",
       "      <th>code_commune_INSEE</th>\n",
       "      <th>nom_departement</th>\n",
       "      <th>nom_region</th>\n",
       "      <th>code_postal</th>\n",
       "      <th>code_region</th>\n",
       "    </tr>\n",
       "  </thead>\n",
       "  <tbody>\n",
       "    <tr>\n",
       "      <th>0</th>\n",
       "      <td>L'Abergement-Clémenciat</td>\n",
       "      <td>23440.0</td>\n",
       "      <td>9.1</td>\n",
       "      <td>767.0</td>\n",
       "      <td>0</td>\n",
       "      <td>49.0</td>\n",
       "      <td>0.000000</td>\n",
       "      <td>NaN</td>\n",
       "      <td>0.010430</td>\n",
       "      <td>0.043025</td>\n",
       "      <td>0.252934</td>\n",
       "      <td>0.186441</td>\n",
       "      <td>0.026144</td>\n",
       "      <td>01</td>\n",
       "      <td>01001</td>\n",
       "      <td>Ain</td>\n",
       "      <td>Auvergne-Rhône-Alpes</td>\n",
       "      <td>1400.0</td>\n",
       "      <td>84.0</td>\n",
       "    </tr>\n",
       "    <tr>\n",
       "      <th>1</th>\n",
       "      <td>L'Abergement-de-Varey</td>\n",
       "      <td>24214.0</td>\n",
       "      <td>24.7</td>\n",
       "      <td>243.0</td>\n",
       "      <td>0</td>\n",
       "      <td>26.6</td>\n",
       "      <td>0.000000</td>\n",
       "      <td>NaN</td>\n",
       "      <td>0.016461</td>\n",
       "      <td>0.041152</td>\n",
       "      <td>0.255144</td>\n",
       "      <td>0.181070</td>\n",
       "      <td>0.000000</td>\n",
       "      <td>01</td>\n",
       "      <td>01002</td>\n",
       "      <td>Ain</td>\n",
       "      <td>Auvergne-Rhône-Alpes</td>\n",
       "      <td>1640.0</td>\n",
       "      <td>84.0</td>\n",
       "    </tr>\n",
       "    <tr>\n",
       "      <th>2</th>\n",
       "      <td>Ambérieu-en-Bugey</td>\n",
       "      <td>19450.0</td>\n",
       "      <td>15.6</td>\n",
       "      <td>14081.0</td>\n",
       "      <td>1</td>\n",
       "      <td>575.0</td>\n",
       "      <td>0.000284</td>\n",
       "      <td>0.190476</td>\n",
       "      <td>0.018323</td>\n",
       "      <td>0.076699</td>\n",
       "      <td>0.239259</td>\n",
       "      <td>0.164903</td>\n",
       "      <td>0.205544</td>\n",
       "      <td>01</td>\n",
       "      <td>01004</td>\n",
       "      <td>Ain</td>\n",
       "      <td>Auvergne-Rhône-Alpes</td>\n",
       "      <td>1500.0</td>\n",
       "      <td>84.0</td>\n",
       "    </tr>\n",
       "    <tr>\n",
       "      <th>3</th>\n",
       "      <td>Ambérieux-en-Dombes</td>\n",
       "      <td>23280.0</td>\n",
       "      <td>8.4</td>\n",
       "      <td>1671.0</td>\n",
       "      <td>0</td>\n",
       "      <td>104.1</td>\n",
       "      <td>0.000598</td>\n",
       "      <td>0.500000</td>\n",
       "      <td>0.014961</td>\n",
       "      <td>0.040694</td>\n",
       "      <td>0.241173</td>\n",
       "      <td>0.153800</td>\n",
       "      <td>0.048438</td>\n",
       "      <td>01</td>\n",
       "      <td>01005</td>\n",
       "      <td>Ain</td>\n",
       "      <td>Auvergne-Rhône-Alpes</td>\n",
       "      <td>1330.0</td>\n",
       "      <td>84.0</td>\n",
       "    </tr>\n",
       "    <tr>\n",
       "      <th>4</th>\n",
       "      <td>Ambléon</td>\n",
       "      <td>NaN</td>\n",
       "      <td>18.2</td>\n",
       "      <td>110.0</td>\n",
       "      <td>0</td>\n",
       "      <td>18.2</td>\n",
       "      <td>0.000000</td>\n",
       "      <td>NaN</td>\n",
       "      <td>0.027273</td>\n",
       "      <td>0.072727</td>\n",
       "      <td>0.136364</td>\n",
       "      <td>0.236364</td>\n",
       "      <td>0.000000</td>\n",
       "      <td>01</td>\n",
       "      <td>01006</td>\n",
       "      <td>Ain</td>\n",
       "      <td>Auvergne-Rhône-Alpes</td>\n",
       "      <td>1300.0</td>\n",
       "      <td>84.0</td>\n",
       "    </tr>\n",
       "  </tbody>\n",
       "</table>\n",
       "</div>"
      ],
      "text/plain": [
       "                   Nom_com    RFM16  TN16     PM16  NSP19   DP16     PGP19  \\\n",
       "0  L'Abergement-Clémenciat  23440.0   9.1    767.0      0   49.0  0.000000   \n",
       "1    L'Abergement-de-Varey  24214.0  24.7    243.0      0   26.6  0.000000   \n",
       "2        Ambérieu-en-Bugey  19450.0  15.6  14081.0      1  575.0  0.000284   \n",
       "3      Ambérieux-en-Dombes  23280.0   8.4   1671.0      0  104.1  0.000598   \n",
       "4                  Ambléon      NaN  18.2    110.0      0   18.2  0.000000   \n",
       "\n",
       "   PGP19_>60  PC16_15_24  PC16_24_64  PPop16_<18  PPop16_>65     PRP16  \\\n",
       "0        NaN    0.010430    0.043025    0.252934    0.186441  0.026144   \n",
       "1        NaN    0.016461    0.041152    0.255144    0.181070  0.000000   \n",
       "2   0.190476    0.018323    0.076699    0.239259    0.164903  0.205544   \n",
       "3   0.500000    0.014961    0.040694    0.241173    0.153800  0.048438   \n",
       "4        NaN    0.027273    0.072727    0.136364    0.236364  0.000000   \n",
       "\n",
       "  code_dep code_commune_INSEE nom_departement            nom_region  \\\n",
       "0       01              01001             Ain  Auvergne-Rhône-Alpes   \n",
       "1       01              01002             Ain  Auvergne-Rhône-Alpes   \n",
       "2       01              01004             Ain  Auvergne-Rhône-Alpes   \n",
       "3       01              01005             Ain  Auvergne-Rhône-Alpes   \n",
       "4       01              01006             Ain  Auvergne-Rhône-Alpes   \n",
       "\n",
       "   code_postal  code_region  \n",
       "0       1400.0         84.0  \n",
       "1       1640.0         84.0  \n",
       "2       1500.0         84.0  \n",
       "3       1330.0         84.0  \n",
       "4       1300.0         84.0  "
      ]
     },
     "execution_count": 77,
     "metadata": {},
     "output_type": "execute_result"
    }
   ],
   "source": [
    "db.head(5)"
   ]
  },
  {
   "cell_type": "code",
   "execution_count": 17,
   "metadata": {
    "collapsed": true
   },
   "outputs": [
    {
     "data": {
      "text/plain": [
       "Index(['Nom_com', 'RFM16', 'TN16', 'PM16', 'NSP19', 'DP16', 'PGP19',\n",
       "       'PGP19_>60', 'PC16_15_24', 'PC16_24_64', 'PPop16_<18', 'PPop16_>65',\n",
       "       'PNRP16', 'code_dep', 'code_commune_INSEE', 'nom_departement',\n",
       "       'nom_region', 'code_postal', 'code_region'],\n",
       "      dtype='object')"
      ]
     },
     "execution_count": 17,
     "metadata": {},
     "output_type": "execute_result"
    }
   ],
   "source": [
    "db.columns"
   ]
  },
  {
   "cell_type": "code",
   "execution_count": 18,
   "metadata": {
    "collapsed": true
   },
   "outputs": [
    {
     "data": {
      "text/html": [
       "<div>\n",
       "<style scoped>\n",
       "    .dataframe tbody tr th:only-of-type {\n",
       "        vertical-align: middle;\n",
       "    }\n",
       "\n",
       "    .dataframe tbody tr th {\n",
       "        vertical-align: top;\n",
       "    }\n",
       "\n",
       "    .dataframe thead th {\n",
       "        text-align: right;\n",
       "    }\n",
       "</style>\n",
       "<table border=\"1\" class=\"dataframe\">\n",
       "  <thead>\n",
       "    <tr style=\"text-align: right;\">\n",
       "      <th></th>\n",
       "      <th>RFM16</th>\n",
       "      <th>TN16</th>\n",
       "      <th>PM16</th>\n",
       "      <th>NSP19</th>\n",
       "      <th>DP16</th>\n",
       "      <th>PGP19</th>\n",
       "      <th>PGP19_&gt;60</th>\n",
       "      <th>PC16_15_24</th>\n",
       "      <th>PC16_24_64</th>\n",
       "      <th>PPop16_&lt;18</th>\n",
       "      <th>PPop16_&gt;65</th>\n",
       "      <th>PNRP16</th>\n",
       "      <th>code_postal</th>\n",
       "      <th>code_region</th>\n",
       "    </tr>\n",
       "  </thead>\n",
       "  <tbody>\n",
       "    <tr>\n",
       "      <th>count</th>\n",
       "      <td>29394.00000</td>\n",
       "      <td>33158.000000</td>\n",
       "      <td>33164.000000</td>\n",
       "      <td>33178.000000</td>\n",
       "      <td>33163.000000</td>\n",
       "      <td>33158.000000</td>\n",
       "      <td>8110.000000</td>\n",
       "      <td>33158.000000</td>\n",
       "      <td>33158.000000</td>\n",
       "      <td>33158.000000</td>\n",
       "      <td>33158.000000</td>\n",
       "      <td>33078.000000</td>\n",
       "      <td>33176.000000</td>\n",
       "      <td>33176.000000</td>\n",
       "    </tr>\n",
       "    <tr>\n",
       "      <th>mean</th>\n",
       "      <td>20802.71273</td>\n",
       "      <td>9.347449</td>\n",
       "      <td>1463.503106</td>\n",
       "      <td>0.163874</td>\n",
       "      <td>153.979314</td>\n",
       "      <td>0.000108</td>\n",
       "      <td>0.327509</td>\n",
       "      <td>0.010492</td>\n",
       "      <td>0.049889</td>\n",
       "      <td>0.216025</td>\n",
       "      <td>0.212755</td>\n",
       "      <td>0.032263</td>\n",
       "      <td>46493.196678</td>\n",
       "      <td>52.260248</td>\n",
       "    </tr>\n",
       "    <tr>\n",
       "      <th>std</th>\n",
       "      <td>3620.13035</td>\n",
       "      <td>6.648896</td>\n",
       "      <td>4787.584346</td>\n",
       "      <td>0.839036</td>\n",
       "      <td>715.831508</td>\n",
       "      <td>0.000384</td>\n",
       "      <td>0.355695</td>\n",
       "      <td>0.007858</td>\n",
       "      <td>0.021618</td>\n",
       "      <td>0.050916</td>\n",
       "      <td>0.075225</td>\n",
       "      <td>0.060830</td>\n",
       "      <td>25588.586500</td>\n",
       "      <td>24.272476</td>\n",
       "    </tr>\n",
       "    <tr>\n",
       "      <th>min</th>\n",
       "      <td>8218.00000</td>\n",
       "      <td>0.000000</td>\n",
       "      <td>0.000000</td>\n",
       "      <td>0.000000</td>\n",
       "      <td>0.000000</td>\n",
       "      <td>0.000000</td>\n",
       "      <td>0.000000</td>\n",
       "      <td>0.000000</td>\n",
       "      <td>0.000000</td>\n",
       "      <td>0.000000</td>\n",
       "      <td>0.000000</td>\n",
       "      <td>0.000000</td>\n",
       "      <td>1000.000000</td>\n",
       "      <td>1.000000</td>\n",
       "    </tr>\n",
       "    <tr>\n",
       "      <th>25%</th>\n",
       "      <td>18504.00000</td>\n",
       "      <td>5.400000</td>\n",
       "      <td>191.000000</td>\n",
       "      <td>0.000000</td>\n",
       "      <td>18.200000</td>\n",
       "      <td>0.000000</td>\n",
       "      <td>0.000000</td>\n",
       "      <td>0.005728</td>\n",
       "      <td>0.036265</td>\n",
       "      <td>0.186632</td>\n",
       "      <td>0.160000</td>\n",
       "      <td>0.000000</td>\n",
       "      <td>25147.500000</td>\n",
       "      <td>28.000000</td>\n",
       "    </tr>\n",
       "    <tr>\n",
       "      <th>50%</th>\n",
       "      <td>20236.00000</td>\n",
       "      <td>9.000000</td>\n",
       "      <td>430.000000</td>\n",
       "      <td>0.000000</td>\n",
       "      <td>39.600000</td>\n",
       "      <td>0.000000</td>\n",
       "      <td>0.250000</td>\n",
       "      <td>0.009720</td>\n",
       "      <td>0.047319</td>\n",
       "      <td>0.219992</td>\n",
       "      <td>0.200299</td>\n",
       "      <td>0.000000</td>\n",
       "      <td>48170.000000</td>\n",
       "      <td>44.000000</td>\n",
       "    </tr>\n",
       "    <tr>\n",
       "      <th>75%</th>\n",
       "      <td>22418.00000</td>\n",
       "      <td>12.500000</td>\n",
       "      <td>1060.000000</td>\n",
       "      <td>0.000000</td>\n",
       "      <td>92.550000</td>\n",
       "      <td>0.000000</td>\n",
       "      <td>0.500000</td>\n",
       "      <td>0.014184</td>\n",
       "      <td>0.060741</td>\n",
       "      <td>0.249666</td>\n",
       "      <td>0.253968</td>\n",
       "      <td>0.041096</td>\n",
       "      <td>67140.000000</td>\n",
       "      <td>76.000000</td>\n",
       "    </tr>\n",
       "    <tr>\n",
       "      <th>max</th>\n",
       "      <td>50092.00000</td>\n",
       "      <td>200.000000</td>\n",
       "      <td>155090.000000</td>\n",
       "      <td>41.000000</td>\n",
       "      <td>26224.000000</td>\n",
       "      <td>0.011494</td>\n",
       "      <td>1.000000</td>\n",
       "      <td>0.250909</td>\n",
       "      <td>0.333333</td>\n",
       "      <td>0.582391</td>\n",
       "      <td>0.857143</td>\n",
       "      <td>0.689355</td>\n",
       "      <td>97680.000000</td>\n",
       "      <td>94.000000</td>\n",
       "    </tr>\n",
       "  </tbody>\n",
       "</table>\n",
       "</div>"
      ],
      "text/plain": [
       "             RFM16          TN16           PM16         NSP19          DP16  \\\n",
       "count  29394.00000  33158.000000   33164.000000  33178.000000  33163.000000   \n",
       "mean   20802.71273      9.347449    1463.503106      0.163874    153.979314   \n",
       "std     3620.13035      6.648896    4787.584346      0.839036    715.831508   \n",
       "min     8218.00000      0.000000       0.000000      0.000000      0.000000   \n",
       "25%    18504.00000      5.400000     191.000000      0.000000     18.200000   \n",
       "50%    20236.00000      9.000000     430.000000      0.000000     39.600000   \n",
       "75%    22418.00000     12.500000    1060.000000      0.000000     92.550000   \n",
       "max    50092.00000    200.000000  155090.000000     41.000000  26224.000000   \n",
       "\n",
       "              PGP19    PGP19_>60    PC16_15_24    PC16_24_64    PPop16_<18  \\\n",
       "count  33158.000000  8110.000000  33158.000000  33158.000000  33158.000000   \n",
       "mean       0.000108     0.327509      0.010492      0.049889      0.216025   \n",
       "std        0.000384     0.355695      0.007858      0.021618      0.050916   \n",
       "min        0.000000     0.000000      0.000000      0.000000      0.000000   \n",
       "25%        0.000000     0.000000      0.005728      0.036265      0.186632   \n",
       "50%        0.000000     0.250000      0.009720      0.047319      0.219992   \n",
       "75%        0.000000     0.500000      0.014184      0.060741      0.249666   \n",
       "max        0.011494     1.000000      0.250909      0.333333      0.582391   \n",
       "\n",
       "         PPop16_>65        PNRP16   code_postal   code_region  \n",
       "count  33158.000000  33078.000000  33176.000000  33176.000000  \n",
       "mean       0.212755      0.032263  46493.196678     52.260248  \n",
       "std        0.075225      0.060830  25588.586500     24.272476  \n",
       "min        0.000000      0.000000   1000.000000      1.000000  \n",
       "25%        0.160000      0.000000  25147.500000     28.000000  \n",
       "50%        0.200299      0.000000  48170.000000     44.000000  \n",
       "75%        0.253968      0.041096  67140.000000     76.000000  \n",
       "max        0.857143      0.689355  97680.000000     94.000000  "
      ]
     },
     "execution_count": 18,
     "metadata": {},
     "output_type": "execute_result"
    }
   ],
   "source": [
    "db.describe()"
   ]
  },
  {
   "cell_type": "markdown",
   "metadata": {},
   "source": [
    "# Features engineering"
   ]
  },
  {
   "cell_type": "code",
   "execution_count": 97,
   "metadata": {},
   "outputs": [],
   "source": [
    "code_dep = set(db['code_dep'])\n",
    "for code in code_dep:\n",
    "    db_temp = db[db['code_dep'] == code]\n",
    "    sum_pop = db_temp['PM16'].sum()\n",
    "    db.loc[(db['code_dep'] == code),'PPMsD16']= db['PM16']/sum_pop\n",
    "db.drop([\"PM16\"], axis=1, inplace=True)\n",
    "db=db.where(pd.notnull(db), None)"
   ]
  },
  {
   "cell_type": "markdown",
   "metadata": {},
   "source": [
    "# Séparation des données"
   ]
  },
  {
   "cell_type": "code",
   "execution_count": 24,
   "metadata": {},
   "outputs": [],
   "source": [
    "var_desc = db[[\"Nom_com\",\"code_dep\",\"code_commune_INSEE\",\n",
    "               \"nom_departement\",\"nom_region\",\"code_postal\",\"code_region\"]] \n",
    "var_num = db[[\"RFM16\",\"TN16\",\"PM16\",\"NSP19\",\"DP16\",\"PGP19\",\"PGP19_>60\",\n",
    "              \"PC16_15_24\",\"PPop16_<18\",\"PPop16_>65\",\"PRP16\"]]"
   ]
  },
  {
   "cell_type": "markdown",
   "metadata": {},
   "source": [
    "# Calcule des valeurs à afficher"
   ]
  },
  {
   "cell_type": "code",
   "execution_count": 25,
   "metadata": {
    "scrolled": true
   },
   "outputs": [],
   "source": [
    "median = var_num.median()\n",
    "std = var_num.std()\n",
    "#np.quantile(a, 0.25, axis=1, keepdims=True)"
   ]
  },
  {
   "cell_type": "code",
   "execution_count": 26,
   "metadata": {},
   "outputs": [],
   "source": [
    "def calcule_indicateur(df):\n",
    "    i = 0\n",
    "    colnames = df.columns\n",
    "    for colname in colnames:\n",
    "        df[colname] = df[colname].apply(lambda x: 1 if(x>median[i] + std[i]) else \n",
    "                                        (-1 if(x<median[i] - std[i]) else 0))\n",
    "        i+=1\n",
    "    return df"
   ]
  },
  {
   "cell_type": "code",
   "execution_count": 27,
   "metadata": {},
   "outputs": [
    {
     "name": "stderr",
     "output_type": "stream",
     "text": [
      "C:\\Users\\joaka\\anaconda3\\lib\\site-packages\\ipykernel_launcher.py:5: SettingWithCopyWarning: \n",
      "A value is trying to be set on a copy of a slice from a DataFrame.\n",
      "Try using .loc[row_indexer,col_indexer] = value instead\n",
      "\n",
      "See the caveats in the documentation: https://pandas.pydata.org/pandas-docs/stable/user_guide/indexing.html#returning-a-view-versus-a-copy\n",
      "  \"\"\"\n"
     ]
    }
   ],
   "source": [
    "display_value = calcule_indicateur(var_num)"
   ]
  },
  {
   "cell_type": "code",
   "execution_count": 28,
   "metadata": {},
   "outputs": [],
   "source": [
    "col_sum = display_value.sum(axis=1)"
   ]
  },
  {
   "cell_type": "code",
   "execution_count": 29,
   "metadata": {},
   "outputs": [],
   "source": [
    "final = pd.concat([var_desc,display_value],axis=1)\n",
    "final['Score'] = col_sum/len(var_num.columns)"
   ]
  },
  {
   "cell_type": "code",
   "execution_count": 12,
   "metadata": {},
   "outputs": [],
   "source": [
    "final['Nom_com'].to_csv(\"liste_des_communes\", sep=\",\")"
   ]
  },
  {
   "cell_type": "code",
   "execution_count": 32,
   "metadata": {
    "scrolled": true
   },
   "outputs": [
    {
     "data": {
      "text/plain": [
       "count    33178.000000\n",
       "mean         0.054965\n",
       "std          0.133956\n",
       "min         -0.363636\n",
       "25%          0.000000\n",
       "50%          0.000000\n",
       "75%          0.090909\n",
       "max          0.636364\n",
       "Name: Score, dtype: float64"
      ]
     },
     "execution_count": 32,
     "metadata": {},
     "output_type": "execute_result"
    }
   ],
   "source": [
    "final['Score'].describe()"
   ]
  },
  {
   "cell_type": "markdown",
   "metadata": {},
   "source": [
    "# Export en json"
   ]
  },
  {
   "cell_type": "code",
   "execution_count": 98,
   "metadata": {
    "scrolled": true
   },
   "outputs": [
    {
     "name": "stderr",
     "output_type": "stream",
     "text": [
      "C:\\Users\\joaka\\anaconda3\\lib\\site-packages\\ipykernel_launcher.py:1: UserWarning: DataFrame columns are not unique, some columns will be omitted.\n",
      "  \"\"\"Entry point for launching an IPython kernel.\n"
     ]
    }
   ],
   "source": [
    "d = db.set_index(\"Nom_com\").T.to_dict('list')"
   ]
  },
  {
   "cell_type": "code",
   "execution_count": 99,
   "metadata": {
    "scrolled": false
   },
   "outputs": [],
   "source": [
    "with open('data.json', 'w', encoding='utf8') as file:\n",
    "     file.write(json.dumps(d, ensure_ascii=False))"
   ]
  }
 ],
 "metadata": {
  "kernelspec": {
   "display_name": "Python 3",
   "language": "python",
   "name": "python3"
  },
  "language_info": {
   "codemirror_mode": {
    "name": "ipython",
    "version": 3
   },
   "file_extension": ".py",
   "mimetype": "text/x-python",
   "name": "python",
   "nbconvert_exporter": "python",
   "pygments_lexer": "ipython3",
   "version": "3.7.6"
  }
 },
 "nbformat": 4,
 "nbformat_minor": 4
}
