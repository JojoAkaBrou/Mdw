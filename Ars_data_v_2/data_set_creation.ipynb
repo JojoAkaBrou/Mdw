{
 "cells": [
  {
   "cell_type": "markdown",
   "metadata": {},
   "source": [
    "# Import des modules"
   ]
  },
  {
   "cell_type": "code",
   "execution_count": 1,
   "metadata": {},
   "outputs": [],
   "source": [
    "import glob\n",
    "import pandas as pd"
   ]
  },
  {
   "cell_type": "markdown",
   "metadata": {},
   "source": [
    "# Lecture des données "
   ]
  },
  {
   "cell_type": "markdown",
   "metadata": {},
   "source": [
    "Données venant du Sirsé et cartosanté"
   ]
  },
  {
   "cell_type": "code",
   "execution_count": 2,
   "metadata": {},
   "outputs": [],
   "source": [
    "liste = glob.glob('*.csv')\n",
    "for i in range(len(liste)):\n",
    "    if i == 0 :\n",
    "        db = pd.read_csv(liste[i], skiprows=2, sep=';', encoding=\"utf-8\", low_memory=False)\n",
    "    else:\n",
    "        db_temp = pd.read_csv(liste[i], skiprows=2, sep=';', encoding=\"utf-8\", low_memory=False)\n",
    "        try:\n",
    "            db_temp.drop('Libellé',axis=1, inplace=True)\n",
    "        except:\n",
    "            pass\n",
    "        db = db.merge(db_temp, left_on='Code', right_on='Code', how='inner')"
   ]
  },
  {
   "cell_type": "markdown",
   "metadata": {},
   "source": [
    "Données de l'insee sur les codes de départements et regions"
   ]
  },
  {
   "cell_type": "code",
   "execution_count": 3,
   "metadata": {},
   "outputs": [],
   "source": [
    "dep = pd.read_csv(\"../dep/communes-departement-region.csv\", sep=\",\", encoding=\"utf-8\")\n",
    "#dep = dep.groupby(['code_commune_INSEE']).count().reset_index()\n",
    "dep['code_commune_INSEE'] = dep['code_commune_INSEE'].apply(lambda x: '0'+str(x) if(len(str(x)) == 4) else str(x))\n",
    "dep['code_postal'] = dep['code_postal'].apply(lambda x: '0'+str(x) if(len(str(x)) == 4) else str(x))\n",
    "dep['code_dep'] = dep['code_commune_INSEE'].str[:2]\n",
    "dep = dep[['code_dep','code_commune_INSEE', \n",
    "     'nom_departement','nom_region','code_postal',\n",
    "     'code_region','longitude','latitude']]"
   ]
  },
  {
   "cell_type": "markdown",
   "metadata": {},
   "source": [
    "# Modification des noms des colonnes"
   ]
  },
  {
   "cell_type": "code",
   "execution_count": 4,
   "metadata": {
    "scrolled": true
   },
   "outputs": [],
   "source": [
    "db.columns = ['Code','Nom_com', 'NG19_60>', 'NG19T',\n",
    "              'Pop16_<18', 'NC16_15_64','NC16_15_24',\n",
    "              'NRP16','RFM16','Pop16_>65','TN16','PM16']"
   ]
  },
  {
   "cell_type": "markdown",
   "metadata": {},
   "source": [
    "# Jointure des données"
   ]
  },
  {
   "cell_type": "code",
   "execution_count": 5,
   "metadata": {},
   "outputs": [
    {
     "name": "stderr",
     "output_type": "stream",
     "text": [
      "C:\\Users\\joaka\\anaconda3\\lib\\site-packages\\pandas\\core\\frame.py:3997: SettingWithCopyWarning: \n",
      "A value is trying to be set on a copy of a slice from a DataFrame\n",
      "\n",
      "See the caveats in the documentation: https://pandas.pydata.org/pandas-docs/stable/user_guide/indexing.html#returning-a-view-versus-a-copy\n",
      "  errors=errors,\n"
     ]
    }
   ],
   "source": [
    "merged_data = pd.merge(db,dep, left_on= \"Code\", right_on =\"code_commune_INSEE\", how=\"left\")\n",
    "data = pd.DataFrame(merged_data['Code'].value_counts() == 1)\n",
    "liste_code_commune = data[data['Code']==True].index\n",
    "merged_data_one = merged_data[merged_data['Code'].isin(liste_code_commune)]\n",
    "#merged_data_one['code_region'] = merged_data_one['code_region'].astype(int).astype(str)\n",
    "merged_data_one.drop([\"Code\",\"longitude\",\"latitude\"], axis=1, inplace=True)"
   ]
  },
  {
   "cell_type": "code",
   "execution_count": 12,
   "metadata": {},
   "outputs": [],
   "source": [
    "merged_data_one.to_csv(\"output_data.csv\")"
   ]
  },
  {
   "cell_type": "markdown",
   "metadata": {},
   "source": [
    "# Vue sur les données"
   ]
  },
  {
   "cell_type": "code",
   "execution_count": 11,
   "metadata": {},
   "outputs": [
    {
     "data": {
      "text/plain": [
       "Index(['Nom_com', 'NG19_60>', 'NG19T', 'Pop16_<18', 'NC16_15_64', 'NC16_15_24',\n",
       "       'NRP16', 'RFM16', 'Pop16_>65', 'TN16', 'PM16', 'code_dep',\n",
       "       'code_commune_INSEE', 'nom_departement', 'nom_region', 'code_postal',\n",
       "       'code_region'],\n",
       "      dtype='object')"
      ]
     },
     "execution_count": 11,
     "metadata": {},
     "output_type": "execute_result"
    }
   ],
   "source": [
    "merged_data_one.columns"
   ]
  },
  {
   "cell_type": "code",
   "execution_count": 9,
   "metadata": {},
   "outputs": [
    {
     "data": {
      "text/html": [
       "<div>\n",
       "<style scoped>\n",
       "    .dataframe tbody tr th:only-of-type {\n",
       "        vertical-align: middle;\n",
       "    }\n",
       "\n",
       "    .dataframe tbody tr th {\n",
       "        vertical-align: top;\n",
       "    }\n",
       "\n",
       "    .dataframe thead th {\n",
       "        text-align: right;\n",
       "    }\n",
       "</style>\n",
       "<table border=\"1\" class=\"dataframe\">\n",
       "  <thead>\n",
       "    <tr style=\"text-align: right;\">\n",
       "      <th></th>\n",
       "      <th>NG19_60&gt;</th>\n",
       "      <th>NG19T</th>\n",
       "      <th>Pop16_&lt;18</th>\n",
       "      <th>NC16_15_64</th>\n",
       "      <th>NC16_15_24</th>\n",
       "      <th>NRP16</th>\n",
       "      <th>RFM16</th>\n",
       "      <th>Pop16_&gt;65</th>\n",
       "      <th>TN16</th>\n",
       "      <th>PM16</th>\n",
       "      <th>code_region</th>\n",
       "    </tr>\n",
       "  </thead>\n",
       "  <tbody>\n",
       "    <tr>\n",
       "      <th>count</th>\n",
       "      <td>33217.000000</td>\n",
       "      <td>33217.000000</td>\n",
       "      <td>33203.000000</td>\n",
       "      <td>33203.000000</td>\n",
       "      <td>33203.000000</td>\n",
       "      <td>33123.000000</td>\n",
       "      <td>29433.000000</td>\n",
       "      <td>33203.000000</td>\n",
       "      <td>33197.000000</td>\n",
       "      <td>33203.000000</td>\n",
       "      <td>33215.000000</td>\n",
       "    </tr>\n",
       "    <tr>\n",
       "      <th>mean</th>\n",
       "      <td>0.402354</td>\n",
       "      <td>1.290785</td>\n",
       "      <td>345.717194</td>\n",
       "      <td>96.305695</td>\n",
       "      <td>20.686354</td>\n",
       "      <td>92.887571</td>\n",
       "      <td>20809.415044</td>\n",
       "      <td>296.759871</td>\n",
       "      <td>9.352649</td>\n",
       "      <td>1554.596151</td>\n",
       "      <td>52.258739</td>\n",
       "    </tr>\n",
       "    <tr>\n",
       "      <th>std</th>\n",
       "      <td>2.232292</td>\n",
       "      <td>6.025696</td>\n",
       "      <td>1246.816357</td>\n",
       "      <td>447.360562</td>\n",
       "      <td>91.649966</td>\n",
       "      <td>661.855511</td>\n",
       "      <td>3638.465890</td>\n",
       "      <td>985.375680</td>\n",
       "      <td>6.647526</td>\n",
       "      <td>5822.401142</td>\n",
       "      <td>24.295222</td>\n",
       "    </tr>\n",
       "    <tr>\n",
       "      <th>min</th>\n",
       "      <td>0.000000</td>\n",
       "      <td>0.000000</td>\n",
       "      <td>0.000000</td>\n",
       "      <td>0.000000</td>\n",
       "      <td>0.000000</td>\n",
       "      <td>0.000000</td>\n",
       "      <td>7570.000000</td>\n",
       "      <td>0.000000</td>\n",
       "      <td>0.000000</td>\n",
       "      <td>0.000000</td>\n",
       "      <td>1.000000</td>\n",
       "    </tr>\n",
       "    <tr>\n",
       "      <th>25%</th>\n",
       "      <td>0.000000</td>\n",
       "      <td>0.000000</td>\n",
       "      <td>39.000000</td>\n",
       "      <td>9.000000</td>\n",
       "      <td>1.000000</td>\n",
       "      <td>0.000000</td>\n",
       "      <td>18504.000000</td>\n",
       "      <td>39.000000</td>\n",
       "      <td>5.400000</td>\n",
       "      <td>191.000000</td>\n",
       "      <td>28.000000</td>\n",
       "    </tr>\n",
       "    <tr>\n",
       "      <th>50%</th>\n",
       "      <td>0.000000</td>\n",
       "      <td>0.000000</td>\n",
       "      <td>95.000000</td>\n",
       "      <td>20.000000</td>\n",
       "      <td>4.000000</td>\n",
       "      <td>0.000000</td>\n",
       "      <td>20240.000000</td>\n",
       "      <td>83.000000</td>\n",
       "      <td>9.000000</td>\n",
       "      <td>431.000000</td>\n",
       "      <td>44.000000</td>\n",
       "    </tr>\n",
       "    <tr>\n",
       "      <th>75%</th>\n",
       "      <td>0.000000</td>\n",
       "      <td>0.000000</td>\n",
       "      <td>241.000000</td>\n",
       "      <td>51.000000</td>\n",
       "      <td>11.000000</td>\n",
       "      <td>14.000000</td>\n",
       "      <td>22426.000000</td>\n",
       "      <td>206.000000</td>\n",
       "      <td>12.500000</td>\n",
       "      <td>1065.000000</td>\n",
       "      <td>76.000000</td>\n",
       "    </tr>\n",
       "    <tr>\n",
       "      <th>max</th>\n",
       "      <td>123.000000</td>\n",
       "      <td>312.000000</td>\n",
       "      <td>38597.000000</td>\n",
       "      <td>16193.000000</td>\n",
       "      <td>2931.000000</td>\n",
       "      <td>32624.000000</td>\n",
       "      <td>50092.000000</td>\n",
       "      <td>41271.000000</td>\n",
       "      <td>200.000000</td>\n",
       "      <td>233484.000000</td>\n",
       "      <td>94.000000</td>\n",
       "    </tr>\n",
       "  </tbody>\n",
       "</table>\n",
       "</div>"
      ],
      "text/plain": [
       "           NG19_60>         NG19T     Pop16_<18    NC16_15_64    NC16_15_24  \\\n",
       "count  33217.000000  33217.000000  33203.000000  33203.000000  33203.000000   \n",
       "mean       0.402354      1.290785    345.717194     96.305695     20.686354   \n",
       "std        2.232292      6.025696   1246.816357    447.360562     91.649966   \n",
       "min        0.000000      0.000000      0.000000      0.000000      0.000000   \n",
       "25%        0.000000      0.000000     39.000000      9.000000      1.000000   \n",
       "50%        0.000000      0.000000     95.000000     20.000000      4.000000   \n",
       "75%        0.000000      0.000000    241.000000     51.000000     11.000000   \n",
       "max      123.000000    312.000000  38597.000000  16193.000000   2931.000000   \n",
       "\n",
       "              NRP16         RFM16     Pop16_>65          TN16           PM16  \\\n",
       "count  33123.000000  29433.000000  33203.000000  33197.000000   33203.000000   \n",
       "mean      92.887571  20809.415044    296.759871      9.352649    1554.596151   \n",
       "std      661.855511   3638.465890    985.375680      6.647526    5822.401142   \n",
       "min        0.000000   7570.000000      0.000000      0.000000       0.000000   \n",
       "25%        0.000000  18504.000000     39.000000      5.400000     191.000000   \n",
       "50%        0.000000  20240.000000     83.000000      9.000000     431.000000   \n",
       "75%       14.000000  22426.000000    206.000000     12.500000    1065.000000   \n",
       "max    32624.000000  50092.000000  41271.000000    200.000000  233484.000000   \n",
       "\n",
       "        code_region  \n",
       "count  33215.000000  \n",
       "mean      52.258739  \n",
       "std       24.295222  \n",
       "min        1.000000  \n",
       "25%       28.000000  \n",
       "50%       44.000000  \n",
       "75%       76.000000  \n",
       "max       94.000000  "
      ]
     },
     "execution_count": 9,
     "metadata": {},
     "output_type": "execute_result"
    }
   ],
   "source": [
    "merged_data_one.describe()"
   ]
  },
  {
   "cell_type": "markdown",
   "metadata": {},
   "source": [
    "# Séparation des données"
   ]
  },
  {
   "cell_type": "markdown",
   "metadata": {},
   "source": [
    "val_descriptive = "
   ]
  },
  {
   "cell_type": "markdown",
   "metadata": {},
   "source": [
    "# Calcule des valeurs à afficher"
   ]
  },
  {
   "cell_type": "code",
   "execution_count": 6,
   "metadata": {},
   "outputs": [],
   "source": [
    "def calcule_indicateur(df):\n",
    "    colnames = df.columns\n",
    "    for colname in colnames:\n",
    "        df[colnames] = df[colnames].apply(lambda x: '0'+str(x) if(len(str(x)) == 4) else str(x))"
   ]
  },
  {
   "cell_type": "code",
   "execution_count": null,
   "metadata": {},
   "outputs": [],
   "source": []
  }
 ],
 "metadata": {
  "kernelspec": {
   "display_name": "Python 3",
   "language": "python",
   "name": "python3"
  },
  "language_info": {
   "codemirror_mode": {
    "name": "ipython",
    "version": 3
   },
   "file_extension": ".py",
   "mimetype": "text/x-python",
   "name": "python",
   "nbconvert_exporter": "python",
   "pygments_lexer": "ipython3",
   "version": "3.7.6"
  }
 },
 "nbformat": 4,
 "nbformat_minor": 4
}
