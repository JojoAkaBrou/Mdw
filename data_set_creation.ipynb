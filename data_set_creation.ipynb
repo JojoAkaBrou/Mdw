{
 "cells": [
  {
   "cell_type": "code",
   "execution_count": 1,
   "metadata": {},
   "outputs": [],
   "source": [
    "import glob\n",
    "import pandas as pd"
   ]
  },
  {
   "cell_type": "code",
   "execution_count": 2,
   "metadata": {},
   "outputs": [],
   "source": [
    "liste = glob.glob('C:/Users/joaka/Documents/Master Miashs/Marathon/*.csv')\n",
    "for i in range(len(liste)):\n",
    "    if i == 0 :\n",
    "        db = pd.read_csv(liste[i], skiprows=2, sep=';', encoding=\"utf-8\", low_memory=False)\n",
    "    else:\n",
    "        db_temp = pd.read_csv(liste[i], skiprows=2, sep=';', encoding=\"utf-8\", low_memory=False)\n",
    "        try:\n",
    "            db_temp.drop('Libellé',axis=1, inplace=True)\n",
    "        except:\n",
    "            pass\n",
    "        db = db.merge(db_temp, left_on='Code', right_on='Code', how='inner')"
   ]
  },
  {
   "cell_type": "code",
   "execution_count": 3,
   "metadata": {},
   "outputs": [
    {
     "name": "stderr",
     "output_type": "stream",
     "text": [
      "C:\\Users\\joaka\\anaconda3\\lib\\site-packages\\ipykernel_launcher.py:20: SettingWithCopyWarning: \n",
      "A value is trying to be set on a copy of a slice from a DataFrame.\n",
      "Try using .loc[row_indexer,col_indexer] = value instead\n",
      "\n",
      "See the caveats in the documentation: https://pandas.pydata.org/pandas-docs/stable/user_guide/indexing.html#returning-a-view-versus-a-copy\n"
     ]
    }
   ],
   "source": [
    "export = db[[\"Code\",\"Libellé\",\"Distance au plus proche généraliste libéral 2019\",\n",
    "            \"Temps d'accès au généraliste libéral le plus proche 2019\",\n",
    "             \"Nbre de généralistes lib. au 31/12 2019 Total\",\n",
    "             \"Nbre de généralistes lib. au 31/12 2019 60> \",\n",
    "             \"Nbre de généralistes lib. au 31/12 2019 55 - 59\",\n",
    "             \"Nbre de généralistes lib. au 31/12 2019 40 -  49\",\n",
    "             \"Nbre de généralistes lib. au 31/12 2019 <40\",\n",
    "             \"Pharmacie 2018\", \"Nbre de bénéficiaires d'actes gén. 2018\",\n",
    "             \"Densité de population 2016\",\"Taux d'emploi 2016\",\n",
    "             \"Taux d'emploi 2016.1\",\"Revenu fiscal médian 2016\",\n",
    "             \"Population des moins de 18 ans 2016\",\n",
    "             \"Population des 65 ans ou plus 2016\",\n",
    "             \"Nombre de personnes sans diplôme 2016\",\n",
    "             \"Nombre de personnes diplômées du supérieur 2016\",\n",
    "             \"EHPA / EHPAD : capacité d'accueil 16-05-2019\",\n",
    "             \"Nombre de lits et places en MCO 2017\",\n",
    "             \"Nombre de lits en hospitalisation complète en MCO 2017\"]]\n",
    "\n",
    "# export['Code'] = export['Code'].str[:2]\n",
    "export[\"Nbr de ben/nbr de gen\"] = export[\"Nbre de bénéficiaires d'actes gén. 2018\"]/export[\"Nbre de généralistes lib. au 31/12 2019 Total\"]\n",
    "\n",
    "export.columns = ['Code', \n",
    "                  'Name','DG19','TG19','NG19T','NG19_60>',\n",
    "                  'NG19_55_59','NG19_40_49','NG19_<40',\n",
    "                  'Pharm18','NBG18','DstPop16',\n",
    "                  'TxEmpF16','TxEmpH16','RFM16','Pop16_<18','Pop16_>65',\n",
    "                  '<Dpl16','>Dpl16','EHPAD19_c','NlMCO19',\n",
    "                  'NlHC17','RBG_18-19']"
   ]
  },
  {
   "cell_type": "code",
   "execution_count": 4,
   "metadata": {},
   "outputs": [],
   "source": [
    "dep = pd.read_csv(\"dep/communes-departement-region.csv\", sep=\",\", encoding=\"utf-8\")\n",
    "#dep = dep.groupby(['code_commune_INSEE']).count().reset_index()\n",
    "dep['code_commune_INSEE'] = dep['code_commune_INSEE'].apply(lambda x: '0'+str(x) if(len(str(x)) == 4) else str(x))\n",
    "dep['code_postal'] = dep['code_postal'].apply(lambda x: '0'+str(x) if(len(str(x)) == 4) else str(x))\n",
    "dep['code_dep'] = dep['code_commune_INSEE'].str[:2]\n",
    "dep = dep[['code_dep','code_commune_INSEE', \n",
    "     'nom_departement','nom_region','code_postal',\n",
    "     'code_region','longitude','latitude']]"
   ]
  },
  {
   "cell_type": "code",
   "execution_count": 5,
   "metadata": {},
   "outputs": [
    {
     "name": "stderr",
     "output_type": "stream",
     "text": [
      "C:\\Users\\joaka\\anaconda3\\lib\\site-packages\\ipykernel_launcher.py:5: SettingWithCopyWarning: \n",
      "A value is trying to be set on a copy of a slice from a DataFrame.\n",
      "Try using .loc[row_indexer,col_indexer] = value instead\n",
      "\n",
      "See the caveats in the documentation: https://pandas.pydata.org/pandas-docs/stable/user_guide/indexing.html#returning-a-view-versus-a-copy\n",
      "  \"\"\"\n"
     ]
    }
   ],
   "source": [
    "merged_data = pd.merge(export,dep, left_on= \"Code\", right_on =\"code_commune_INSEE\", how=\"inner\")\n",
    "data = pd.DataFrame(merged_data['Code'].value_counts() == 1)\n",
    "liste_code_commune = data[data['Code']==True].index\n",
    "merged_data_one = merged_data[merged_data['Code'].isin(liste_code_commune)]\n",
    "merged_data_one['code_region'] = merged_data_one['code_region'].astype(int).astype(str)\n"
   ]
  },
  {
   "cell_type": "code",
   "execution_count": 6,
   "metadata": {},
   "outputs": [
    {
     "data": {
      "text/plain": [
       "array([    0,     1,     2, ..., 37899, 37900, 37901], dtype=int64)"
      ]
     },
     "execution_count": 6,
     "metadata": {},
     "output_type": "execute_result"
    }
   ],
   "source": [
    "merged_data_one.index.values"
   ]
  },
  {
   "cell_type": "code",
   "execution_count": 7,
   "metadata": {},
   "outputs": [],
   "source": [
    "#merged_data_one = merged_data_one.set_index(['code_region'])"
   ]
  },
  {
   "cell_type": "code",
   "execution_count": 8,
   "metadata": {},
   "outputs": [
    {
     "data": {
      "text/html": [
       "<div>\n",
       "<style scoped>\n",
       "    .dataframe tbody tr th:only-of-type {\n",
       "        vertical-align: middle;\n",
       "    }\n",
       "\n",
       "    .dataframe tbody tr th {\n",
       "        vertical-align: top;\n",
       "    }\n",
       "\n",
       "    .dataframe thead th {\n",
       "        text-align: right;\n",
       "    }\n",
       "</style>\n",
       "<table border=\"1\" class=\"dataframe\">\n",
       "  <thead>\n",
       "    <tr style=\"text-align: right;\">\n",
       "      <th></th>\n",
       "      <th>Code</th>\n",
       "      <th>Name</th>\n",
       "      <th>DG19</th>\n",
       "      <th>TG19</th>\n",
       "      <th>NG19T</th>\n",
       "      <th>NG19_60&gt;</th>\n",
       "      <th>NG19_55_59</th>\n",
       "      <th>NG19_40_49</th>\n",
       "      <th>NG19_&lt;40</th>\n",
       "      <th>Pharm18</th>\n",
       "      <th>...</th>\n",
       "      <th>NlHC17</th>\n",
       "      <th>RBG_18-19</th>\n",
       "      <th>code_dep</th>\n",
       "      <th>code_commune_INSEE</th>\n",
       "      <th>nom_departement</th>\n",
       "      <th>nom_region</th>\n",
       "      <th>code_postal</th>\n",
       "      <th>code_region</th>\n",
       "      <th>longitude</th>\n",
       "      <th>latitude</th>\n",
       "    </tr>\n",
       "  </thead>\n",
       "  <tbody>\n",
       "    <tr>\n",
       "      <th>0</th>\n",
       "      <td>01001</td>\n",
       "      <td>L'Abergement-Clémenciat</td>\n",
       "      <td>5.0</td>\n",
       "      <td>7.0</td>\n",
       "      <td>0</td>\n",
       "      <td>0</td>\n",
       "      <td>0</td>\n",
       "      <td>0</td>\n",
       "      <td>0</td>\n",
       "      <td>0.0</td>\n",
       "      <td>...</td>\n",
       "      <td>0.0</td>\n",
       "      <td>inf</td>\n",
       "      <td>01</td>\n",
       "      <td>01001</td>\n",
       "      <td>Ain</td>\n",
       "      <td>Auvergne-Rhône-Alpes</td>\n",
       "      <td>01400</td>\n",
       "      <td>84</td>\n",
       "      <td>4.926114</td>\n",
       "      <td>46.153426</td>\n",
       "    </tr>\n",
       "    <tr>\n",
       "      <th>1</th>\n",
       "      <td>01002</td>\n",
       "      <td>L'Abergement-de-Varey</td>\n",
       "      <td>4.0</td>\n",
       "      <td>6.0</td>\n",
       "      <td>0</td>\n",
       "      <td>0</td>\n",
       "      <td>0</td>\n",
       "      <td>0</td>\n",
       "      <td>0</td>\n",
       "      <td>0.0</td>\n",
       "      <td>...</td>\n",
       "      <td>0.0</td>\n",
       "      <td>inf</td>\n",
       "      <td>01</td>\n",
       "      <td>01002</td>\n",
       "      <td>Ain</td>\n",
       "      <td>Auvergne-Rhône-Alpes</td>\n",
       "      <td>01640</td>\n",
       "      <td>84</td>\n",
       "      <td>5.428017</td>\n",
       "      <td>46.009188</td>\n",
       "    </tr>\n",
       "    <tr>\n",
       "      <th>2</th>\n",
       "      <td>01004</td>\n",
       "      <td>Ambérieu-en-Bugey</td>\n",
       "      <td>0.0</td>\n",
       "      <td>0.0</td>\n",
       "      <td>21</td>\n",
       "      <td>4</td>\n",
       "      <td>1</td>\n",
       "      <td>5</td>\n",
       "      <td>8</td>\n",
       "      <td>6.0</td>\n",
       "      <td>...</td>\n",
       "      <td>87.0</td>\n",
       "      <td>599.047619</td>\n",
       "      <td>01</td>\n",
       "      <td>01004</td>\n",
       "      <td>Ain</td>\n",
       "      <td>Auvergne-Rhône-Alpes</td>\n",
       "      <td>01500</td>\n",
       "      <td>84</td>\n",
       "      <td>5.372926</td>\n",
       "      <td>45.960848</td>\n",
       "    </tr>\n",
       "    <tr>\n",
       "      <th>3</th>\n",
       "      <td>01005</td>\n",
       "      <td>Ambérieux-en-Dombes</td>\n",
       "      <td>0.0</td>\n",
       "      <td>0.0</td>\n",
       "      <td>2</td>\n",
       "      <td>1</td>\n",
       "      <td>0</td>\n",
       "      <td>0</td>\n",
       "      <td>1</td>\n",
       "      <td>1.0</td>\n",
       "      <td>...</td>\n",
       "      <td>0.0</td>\n",
       "      <td>760.500000</td>\n",
       "      <td>01</td>\n",
       "      <td>01005</td>\n",
       "      <td>Ain</td>\n",
       "      <td>Auvergne-Rhône-Alpes</td>\n",
       "      <td>01330</td>\n",
       "      <td>84</td>\n",
       "      <td>4.912273</td>\n",
       "      <td>45.996180</td>\n",
       "    </tr>\n",
       "    <tr>\n",
       "      <th>4</th>\n",
       "      <td>01006</td>\n",
       "      <td>Ambléon</td>\n",
       "      <td>11.0</td>\n",
       "      <td>16.0</td>\n",
       "      <td>0</td>\n",
       "      <td>0</td>\n",
       "      <td>0</td>\n",
       "      <td>0</td>\n",
       "      <td>0</td>\n",
       "      <td>0.0</td>\n",
       "      <td>...</td>\n",
       "      <td>0.0</td>\n",
       "      <td>inf</td>\n",
       "      <td>01</td>\n",
       "      <td>01006</td>\n",
       "      <td>Ain</td>\n",
       "      <td>Auvergne-Rhône-Alpes</td>\n",
       "      <td>01300</td>\n",
       "      <td>84</td>\n",
       "      <td>5.594320</td>\n",
       "      <td>45.749499</td>\n",
       "    </tr>\n",
       "  </tbody>\n",
       "</table>\n",
       "<p>5 rows × 31 columns</p>\n",
       "</div>"
      ],
      "text/plain": [
       "    Code                     Name  DG19  TG19  NG19T  NG19_60>  NG19_55_59  \\\n",
       "0  01001  L'Abergement-Clémenciat   5.0   7.0      0         0           0   \n",
       "1  01002    L'Abergement-de-Varey   4.0   6.0      0         0           0   \n",
       "2  01004        Ambérieu-en-Bugey   0.0   0.0     21         4           1   \n",
       "3  01005      Ambérieux-en-Dombes   0.0   0.0      2         1           0   \n",
       "4  01006                  Ambléon  11.0  16.0      0         0           0   \n",
       "\n",
       "   NG19_40_49  NG19_<40  Pharm18  ...  NlHC17   RBG_18-19  code_dep  \\\n",
       "0           0         0      0.0  ...     0.0         inf        01   \n",
       "1           0         0      0.0  ...     0.0         inf        01   \n",
       "2           5         8      6.0  ...    87.0  599.047619        01   \n",
       "3           0         1      1.0  ...     0.0  760.500000        01   \n",
       "4           0         0      0.0  ...     0.0         inf        01   \n",
       "\n",
       "   code_commune_INSEE  nom_departement            nom_region  code_postal  \\\n",
       "0               01001              Ain  Auvergne-Rhône-Alpes        01400   \n",
       "1               01002              Ain  Auvergne-Rhône-Alpes        01640   \n",
       "2               01004              Ain  Auvergne-Rhône-Alpes        01500   \n",
       "3               01005              Ain  Auvergne-Rhône-Alpes        01330   \n",
       "4               01006              Ain  Auvergne-Rhône-Alpes        01300   \n",
       "\n",
       "   code_region  longitude   latitude  \n",
       "0           84   4.926114  46.153426  \n",
       "1           84   5.428017  46.009188  \n",
       "2           84   5.372926  45.960848  \n",
       "3           84   4.912273  45.996180  \n",
       "4           84   5.594320  45.749499  \n",
       "\n",
       "[5 rows x 31 columns]"
      ]
     },
     "execution_count": 8,
     "metadata": {},
     "output_type": "execute_result"
    }
   ],
   "source": [
    "merged_data_one.head(5)"
   ]
  },
  {
   "cell_type": "code",
   "execution_count": 15,
   "metadata": {},
   "outputs": [
    {
     "data": {
      "text/plain": [
       "(33173, 31)"
      ]
     },
     "execution_count": 15,
     "metadata": {},
     "output_type": "execute_result"
    }
   ],
   "source": [
    "merged_data_one.shape"
   ]
  },
  {
   "cell_type": "code",
   "execution_count": 9,
   "metadata": {
    "scrolled": true
   },
   "outputs": [
    {
     "data": {
      "text/plain": [
       "{'Code': {0: '01001', 1: '01002', 2: '01004', 3: '01005', 4: '01006'},\n",
       " 'Name': {0: \"L'Abergement-Clémenciat\",\n",
       "  1: \"L'Abergement-de-Varey\",\n",
       "  2: 'Ambérieu-en-Bugey',\n",
       "  3: 'Ambérieux-en-Dombes',\n",
       "  4: 'Ambléon'},\n",
       " 'DG19': {0: 5.0, 1: 4.0, 2: 0.0, 3: 0.0, 4: 11.0},\n",
       " 'TG19': {0: 7.0, 1: 6.0, 2: 0.0, 3: 0.0, 4: 16.0},\n",
       " 'NG19T': {0: 0, 1: 0, 2: 21, 3: 2, 4: 0},\n",
       " 'NG19_60>': {0: 0, 1: 0, 2: 4, 3: 1, 4: 0},\n",
       " 'NG19_55_59': {0: 0, 1: 0, 2: 1, 3: 0, 4: 0},\n",
       " 'NG19_40_49': {0: 0, 1: 0, 2: 5, 3: 0, 4: 0},\n",
       " 'NG19_<40': {0: 0, 1: 0, 2: 8, 3: 1, 4: 0},\n",
       " 'Pharm18': {0: 0.0, 1: 0.0, 2: 6.0, 3: 1.0, 4: 0.0},\n",
       " 'NBG18': {0: 648.0, 1: 219.0, 2: 12580.0, 3: 1521.0, 4: 66.0},\n",
       " 'DstPop16': {0: 49.0, 1: 26.6, 2: 575.0, 3: 104.1, 4: 18.2},\n",
       " 'TxEmpF16': {0: 69.3, 1: 71.6, 2: 57.1, 3: 70.9, 4: 73.3},\n",
       " 'TxEmpH16': {0: 78.7, 1: 85.7, 2: 68.2, 3: 77.8, 4: 66.7},\n",
       " 'RFM16': {0: 23440.0, 1: 24214.0, 2: 19450.0, 3: 23280.0, 4: nan},\n",
       " 'Pop16_<18': {0: 194.0, 1: 62.0, 2: 3369.0, 3: 403.0, 4: 15.0},\n",
       " 'Pop16_>65': {0: 143.0, 1: 44.0, 2: 2322.0, 3: 257.0, 4: 26.0},\n",
       " '<Dpl16': {0: 131.0, 1: 29.0, 2: 2888.0, 3: 344.0, 4: 21.0},\n",
       " '>Dpl16': {0: 141.0, 1: 61.0, 2: 2588.0, 3: 289.0, 4: 13.0},\n",
       " 'EHPAD19_c': {0: 0, 1: 0, 2: 144, 3: 0, 4: 0},\n",
       " 'NlMCO19': {0: 0.0, 1: 0.0, 2: 111.0, 3: 0.0, 4: 0.0},\n",
       " 'NlHC17': {0: 0.0, 1: 0.0, 2: 87.0, 3: 0.0, 4: 0.0},\n",
       " 'RBG_18-19': {0: inf, 1: inf, 2: 599.047619047619, 3: 760.5, 4: inf},\n",
       " 'code_dep': {0: '01', 1: '01', 2: '01', 3: '01', 4: '01'},\n",
       " 'code_commune_INSEE': {0: '01001',\n",
       "  1: '01002',\n",
       "  2: '01004',\n",
       "  3: '01005',\n",
       "  4: '01006'},\n",
       " 'nom_departement': {0: 'Ain', 1: 'Ain', 2: 'Ain', 3: 'Ain', 4: 'Ain'},\n",
       " 'nom_region': {0: 'Auvergne-Rhône-Alpes',\n",
       "  1: 'Auvergne-Rhône-Alpes',\n",
       "  2: 'Auvergne-Rhône-Alpes',\n",
       "  3: 'Auvergne-Rhône-Alpes',\n",
       "  4: 'Auvergne-Rhône-Alpes'},\n",
       " 'code_postal': {0: '01400', 1: '01640', 2: '01500', 3: '01330', 4: '01300'},\n",
       " 'code_region': {0: '84', 1: '84', 2: '84', 3: '84', 4: '84'},\n",
       " 'longitude': {0: 4.92611354223,\n",
       "  1: 5.42801696363,\n",
       "  2: 5.3729257777,\n",
       "  3: 4.91227250796,\n",
       "  4: 5.594320173659999},\n",
       " 'latitude': {0: 46.1534255214,\n",
       "  1: 46.009187877600006,\n",
       "  2: 45.960847511400004,\n",
       "  3: 45.9961799872,\n",
       "  4: 45.7494989044}}"
      ]
     },
     "execution_count": 9,
     "metadata": {},
     "output_type": "execute_result"
    }
   ],
   "source": [
    "merged_data_one.head(5).to_dict()"
   ]
  },
  {
   "cell_type": "code",
   "execution_count": 11,
   "metadata": {
    "scrolled": true
   },
   "outputs": [
    {
     "name": "stdout",
     "output_type": "stream",
     "text": [
      "['01001' \"L'Abergement-Clémenciat\" 5.0 7.0 0 0 0 0 0 0.0 648.0 49.0 69.3\n",
      " 78.7 23440.0 194.0 143.0 131.0 141.0 0 0.0 0.0 inf '01' '01001' 'Ain'\n",
      " 'Auvergne-Rhône-Alpes' '01400' '84' 4.92611354223 46.1534255214]\n",
      "['01002' \"L'Abergement-de-Varey\" 4.0 6.0 0 0 0 0 0 0.0 219.0 26.6 71.6\n",
      " 85.7 24214.0 62.0 44.0 29.0 61.0 0 0.0 0.0 inf '01' '01002' 'Ain'\n",
      " 'Auvergne-Rhône-Alpes' '01640' '84' 5.42801696363 46.009187877600006]\n",
      "['01004' 'Ambérieu-en-Bugey' 0.0 0.0 21 4 1 5 8 6.0 12580.0 575.0 57.1\n",
      " 68.2 19450.0 3369.0 2322.0 2888.0 2588.0 144 111.0 87.0 599.047619047619\n",
      " '01' '01004' 'Ain' 'Auvergne-Rhône-Alpes' '01500' '84' 5.3729257777\n",
      " 45.960847511400004]\n",
      "['01005' 'Ambérieux-en-Dombes' 0.0 0.0 2 1 0 0 1 1.0 1521.0 104.1 70.9\n",
      " 77.8 23280.0 403.0 257.0 344.0 289.0 0 0.0 0.0 760.5 '01' '01005' 'Ain'\n",
      " 'Auvergne-Rhône-Alpes' '01330' '84' 4.91227250796 45.9961799872]\n",
      "['01006' 'Ambléon' 11.0 16.0 0 0 0 0 0 0.0 66.0 18.2 73.3 66.7 nan 15.0\n",
      " 26.0 21.0 13.0 0 0.0 0.0 inf '01' '01006' 'Ain' 'Auvergne-Rhône-Alpes'\n",
      " '01300' '84' 5.594320173659999 45.7494989044]\n"
     ]
    },
    {
     "data": {
      "text/plain": [
       "{}"
      ]
     },
     "execution_count": 11,
     "metadata": {},
     "output_type": "execute_result"
    }
   ],
   "source": [
    "retro_dictify(merged_data_one.head(5))"
   ]
  },
  {
   "cell_type": "code",
   "execution_count": 16,
   "metadata": {},
   "outputs": [],
   "source": [
    "test = {\"dsf\":\"sdfsdf\"}"
   ]
  },
  {
   "cell_type": "code",
   "execution_count": 19,
   "metadata": {},
   "outputs": [
    {
     "data": {
      "text/plain": [
       "'sdfsdf'"
      ]
     },
     "execution_count": 19,
     "metadata": {},
     "output_type": "execute_result"
    }
   ],
   "source": [
    "test['dsf']"
   ]
  },
  {
   "cell_type": "code",
   "execution_count": 18,
   "metadata": {},
   "outputs": [
    {
     "data": {
      "text/plain": [
       "True"
      ]
     },
     "execution_count": 18,
     "metadata": {},
     "output_type": "execute_result"
    }
   ],
   "source": [
    "\"dsf\" in test.keys()"
   ]
  },
  {
   "cell_type": "code",
   "execution_count": 13,
   "metadata": {},
   "outputs": [
    {
     "ename": "SyntaxError",
     "evalue": "invalid syntax (<ipython-input-13-7509a045ff57>, line 4)",
     "output_type": "error",
     "traceback": [
      "\u001b[1;36m  File \u001b[1;32m\"<ipython-input-13-7509a045ff57>\"\u001b[1;36m, line \u001b[1;32m4\u001b[0m\n\u001b[1;33m    if\u001b[0m\n\u001b[1;37m       ^\u001b[0m\n\u001b[1;31mSyntaxError\u001b[0m\u001b[1;31m:\u001b[0m invalid syntax\n"
     ]
    }
   ],
   "source": [
    "def dictionnary_python(df):\n",
    "    d = {}\n",
    "    for row in df.values:\n",
    "        if row[28] in d.keys():\n",
    "            if row[23] in d[row['28']]:\n",
    "                \n",
    "        else:\n",
    "            d[row[28]]={}\n",
    "    return d"
   ]
  }
 ],
 "metadata": {
  "kernelspec": {
   "display_name": "Python 3",
   "language": "python",
   "name": "python3"
  },
  "language_info": {
   "codemirror_mode": {
    "name": "ipython",
    "version": 3
   },
   "file_extension": ".py",
   "mimetype": "text/x-python",
   "name": "python",
   "nbconvert_exporter": "python",
   "pygments_lexer": "ipython3",
   "version": "3.7.6"
  }
 },
 "nbformat": 4,
 "nbformat_minor": 4
}
