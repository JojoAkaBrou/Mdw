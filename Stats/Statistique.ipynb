{
 "cells": [
  {
   "cell_type": "markdown",
   "metadata": {},
   "source": [
    "# Import des modules"
   ]
  },
  {
   "cell_type": "code",
   "execution_count": 13,
   "metadata": {},
   "outputs": [],
   "source": [
    "import pandas as pd\n",
    "import numpy as np\n",
    "from scipy.spatial import cKDTree\n",
    "from sklearn.cluster import KMeans\n",
    "from sklearn.neighbors import NearestNeighbors\n",
    "from matplotlib import pyplot as plt\n",
    "from sklearn.datasets.samples_generator import make_blobs\n",
    "from sklearn.cluster import KMeans\n",
    "import json"
   ]
  },
  {
   "cell_type": "markdown",
   "metadata": {},
   "source": [
    "# Lecture des données"
   ]
  },
  {
   "cell_type": "code",
   "execution_count": 33,
   "metadata": {},
   "outputs": [],
   "source": [
    "db = pd.read_csv(\"../Ars_data_v_2/output_data.csv\", encoding=\"utf-8\", low_memory=False)\n",
    "db.drop(db.columns[0], axis=1, inplace=True)"
   ]
  },
  {
   "cell_type": "markdown",
   "metadata": {},
   "source": [
    "# Features engineering"
   ]
  },
  {
   "cell_type": "code",
   "execution_count": 34,
   "metadata": {},
   "outputs": [],
   "source": [
    "code_dep = set(db['code_dep'])\n",
    "db['PGP19_>60'].fillna(0, inplace=True)\n",
    "for code in code_dep:\n",
    "    db_temp = db[db['code_dep'] == code]\n",
    "    sum_pop = db_temp['PM16'].sum()\n",
    "    db.loc[(db['code_dep'] == code),'PPMsD16']= db['PM16']/sum_pop\n",
    "    db.loc[(db['code_dep'] == code),'PD16']=sum_pop\n",
    "db=db.where(pd.notnull(db), None)\n",
    "db=db.dropna()\n",
    "db['PM16']=db['PM16'].astype(int)\n",
    "db['PD16']=db['PD16'].astype(int)\n",
    "db['code_region']=db['code_region'].astype(int)"
   ]
  },
  {
   "cell_type": "markdown",
   "metadata": {},
   "source": [
    "# Séparation des données"
   ]
  },
  {
   "cell_type": "code",
   "execution_count": 36,
   "metadata": {},
   "outputs": [],
   "source": [
    "var_desc = db[[\"Nom_com\",\"code_dep\",\"code_commune_INSEE\",\n",
    "               \"nom_departement\",\"nom_region\",\"code_postal\",\"code_region\",\"PM16\"]] \n",
    "var_num = db[[\"RFM16\",\"TN16\",\"PPMsD16\",\"NSP19\",\"DP16\",\"PGP19\",\"PGP19_>60\",\n",
    "              \"PC16_24_64\",\"PC16_15_24\",\"PPop16_<18\",\"PPop16_>65\",\"PRP16\"]]\n",
    "X = var_num"
   ]
  },
  {
   "cell_type": "markdown",
   "metadata": {},
   "source": [
    "Second tableau pour les données à afficher"
   ]
  },
  {
   "cell_type": "code",
   "execution_count": 37,
   "metadata": {
    "collapsed": true
   },
   "outputs": [
    {
     "name": "stderr",
     "output_type": "stream",
     "text": [
      "C:\\Users\\joaka\\anaconda3\\lib\\site-packages\\pandas\\core\\indexing.py:965: SettingWithCopyWarning: \n",
      "A value is trying to be set on a copy of a slice from a DataFrame.\n",
      "Try using .loc[row_indexer,col_indexer] = value instead\n",
      "\n",
      "See the caveats in the documentation: https://pandas.pydata.org/pandas-docs/stable/user_guide/indexing.html#returning-a-view-versus-a-copy\n",
      "  self.obj[item] = s\n",
      "C:\\Users\\joaka\\anaconda3\\lib\\site-packages\\ipykernel_launcher.py:15: SettingWithCopyWarning: \n",
      "A value is trying to be set on a copy of a slice from a DataFrame.\n",
      "Try using .loc[row_indexer,col_indexer] = value instead\n",
      "\n",
      "See the caveats in the documentation: https://pandas.pydata.org/pandas-docs/stable/user_guide/indexing.html#returning-a-view-versus-a-copy\n",
      "  from ipykernel import kernelapp as app\n",
      "C:\\Users\\joaka\\anaconda3\\lib\\site-packages\\ipykernel_launcher.py:11: SettingWithCopyWarning: \n",
      "A value is trying to be set on a copy of a slice from a DataFrame.\n",
      "Try using .loc[row_indexer,col_indexer] = value instead\n",
      "\n",
      "See the caveats in the documentation: https://pandas.pydata.org/pandas-docs/stable/user_guide/indexing.html#returning-a-view-versus-a-copy\n",
      "  # This is added back by InteractiveShellApp.init_path()\n",
      "C:\\Users\\joaka\\anaconda3\\lib\\site-packages\\pandas\\core\\indexing.py:1047: SettingWithCopyWarning: \n",
      "A value is trying to be set on a copy of a slice from a DataFrame.\n",
      "Try using .loc[row_indexer,col_indexer] = value instead\n",
      "\n",
      "See the caveats in the documentation: https://pandas.pydata.org/pandas-docs/stable/user_guide/indexing.html#returning-a-view-versus-a-copy\n",
      "  self.obj[item_labels[indexer[info_axis]]] = value\n"
     ]
    }
   ],
   "source": [
    "# Retrait des variables ou il n'y a pas besoin de re multiplier par la population \n",
    "db_display_value = var_num\n",
    "l = list(db_display_value.columns)\n",
    "for elem in [\"DP16\",\"TN16\",\"RFM16\",\"PGP19_>60\"]:\n",
    "        l.remove(elem)\n",
    "        \n",
    "# Re calcule des valeurs initiale et ajout au denominateur de la population municipale et/ou de la population departementale      \n",
    "for name in l:\n",
    "    if name != \"PPMsD16\":\n",
    "        db_display_value.loc[:, name] = db_display_value[name]*db['PM16']\n",
    "        db_display_value[name]=db_display_value[name].astype(int)\n",
    "        db_display_value.loc[:, name] = db_display_value[name].astype(str) + \"/\" + db['PM16'].astype(str)\n",
    "    else:\n",
    "        db_display_value.loc[:,name] = db_display_value[name]*db['PD16']\n",
    "        db_display_value[name]=db_display_value[name].astype(int)\n",
    "        db_display_value.loc[:, name] = db_display_value[name].astype(str) + \"/\" + db['PD16'].astype(str)\n"
   ]
  },
  {
   "cell_type": "markdown",
   "metadata": {},
   "source": [
    "Ajout des données informative à ce second tableau"
   ]
  },
  {
   "cell_type": "code",
   "execution_count": 39,
   "metadata": {},
   "outputs": [],
   "source": [
    "db_final = pd.concat([var_desc,db_display_value], axis=1) "
   ]
  },
  {
   "cell_type": "markdown",
   "metadata": {},
   "source": [
    "# Calcule des seuils à afficher "
   ]
  },
  {
   "cell_type": "code",
   "execution_count": 5,
   "metadata": {},
   "outputs": [],
   "source": [
    "# median_sup = var_num.median()\n",
    "# std = var_num.std()\n",
    "# first_q = var_num.quantile(0.25)\n",
    "# third_q = var_num.quantile(0.75)"
   ]
  },
  {
   "cell_type": "code",
   "execution_count": 6,
   "metadata": {},
   "outputs": [],
   "source": [
    "# def calcule_indicateur(df):\n",
    "#     i = 0\n",
    "#     colnames = df.columns\n",
    "#     for colname in colnames:\n",
    "#         df[colname] = df[colname].apply(lambda x: 1 if(x>median[i] + std[i]) else \n",
    "#                                         (-1 if(x<median[i] - std[i]) else 0))\n",
    "#         i+=1\n",
    "#     return df"
   ]
  },
  {
   "cell_type": "code",
   "execution_count": 7,
   "metadata": {},
   "outputs": [],
   "source": [
    "# display_value = calcule_indicateur(X)"
   ]
  },
  {
   "cell_type": "code",
   "execution_count": 8,
   "metadata": {},
   "outputs": [],
   "source": [
    "# col_sum = display_value.sum(axis=1)"
   ]
  },
  {
   "cell_type": "code",
   "execution_count": 9,
   "metadata": {},
   "outputs": [],
   "source": [
    "# final = pd.concat([var_desc,display_value],axis=1)\n",
    "# final['Score'] = col_sum/len(var_num.columns)"
   ]
  },
  {
   "cell_type": "markdown",
   "metadata": {},
   "source": [
    "Pour Théo (Auto Complétion)"
   ]
  },
  {
   "cell_type": "code",
   "execution_count": 10,
   "metadata": {},
   "outputs": [],
   "source": [
    "# final['Nom_com'].to_csv(\"liste_des_communes\", sep=\",\")"
   ]
  },
  {
   "cell_type": "markdown",
   "metadata": {},
   "source": [
    "# Export en json"
   ]
  },
  {
   "cell_type": "code",
   "execution_count": 75,
   "metadata": {},
   "outputs": [
    {
     "name": "stderr",
     "output_type": "stream",
     "text": [
      "C:\\Users\\joaka\\anaconda3\\lib\\site-packages\\ipykernel_launcher.py:1: UserWarning: DataFrame columns are not unique, some columns will be omitted.\n",
      "  \"\"\"Entry point for launching an IPython kernel.\n",
      "C:\\Users\\joaka\\anaconda3\\lib\\site-packages\\ipykernel_launcher.py:2: UserWarning: DataFrame columns are not unique, some columns will be omitted.\n",
      "  \n"
     ]
    }
   ],
   "source": [
    "d_display = db_final.set_index(\"Nom_com\").T.to_dict()\n",
    "d_value = db.set_index(\"Nom_com\").T.to_dict()"
   ]
  },
  {
   "cell_type": "code",
   "execution_count": 12,
   "metadata": {
    "scrolled": false
   },
   "outputs": [],
   "source": [
    "# with open('data.json', 'w', encoding='utf8') as file:\n",
    "#      file.write(json.dumps(d, ensure_ascii=False))"
   ]
  },
  {
   "cell_type": "markdown",
   "metadata": {},
   "source": [
    "# Classification (Kmeans)"
   ]
  },
  {
   "cell_type": "code",
   "execution_count": 13,
   "metadata": {},
   "outputs": [],
   "source": [
    "# kmeans = KMeans(n_clusters=12,init='k-means++', n_init=10, random_state=0)"
   ]
  },
  {
   "cell_type": "code",
   "execution_count": 14,
   "metadata": {
    "scrolled": true
   },
   "outputs": [],
   "source": [
    "# kmeans.fit(X)"
   ]
  },
  {
   "cell_type": "code",
   "execution_count": 15,
   "metadata": {},
   "outputs": [],
   "source": [
    "# wcss = []\n",
    "# for i in range(1, 50):\n",
    "#     kmeans = KMeans(n_clusters=i,init='k-means++', n_init=10, random_state=0)\n",
    "#     kmeans.fit(X)\n",
    "#     wcss.append(kmeans.inertia_)\n",
    "# plt.plot(range(1, 30), wcss)\n",
    "# plt.title('Elbow Method')\n",
    "# plt.xlabel('Number of clusters')\n",
    "# plt.ylabel('WCSS')\n",
    "# plt.show()"
   ]
  },
  {
   "cell_type": "markdown",
   "metadata": {},
   "source": [
    "# Plus proche voisins (KDtree) "
   ]
  },
  {
   "cell_type": "code",
   "execution_count": 16,
   "metadata": {},
   "outputs": [
    {
     "data": {
      "text/plain": [
       "array([[    0, 20752, 19981, 17452, 14640,   336],\n",
       "       [    1,  5778, 17396,  2491, 28474, 28902],\n",
       "       [    2,  4786, 17513, 21510, 16863, 21083],\n",
       "       ...,\n",
       "       [29356, 17915, 22615, 18687, 20182, 22654],\n",
       "       [29357,   151, 25707,  5538, 13833, 23545],\n",
       "       [29358, 17184,  9424,  6930, 25597,  7136]], dtype=int64)"
      ]
     },
     "execution_count": 16,
     "metadata": {},
     "output_type": "execute_result"
    }
   ],
   "source": [
    "nbrs = NearestNeighbors(n_neighbors=6, algorithm='kd_tree').fit(X)\n",
    "distances, indices = nbrs.kneighbors(X)\n",
    "indices"
   ]
  },
  {
   "cell_type": "code",
   "execution_count": 17,
   "metadata": {},
   "outputs": [],
   "source": [
    "proche_voisin = []\n",
    "for i in range(len(db.index)):\n",
    "    proche_voisin.append(list(db.iloc[indices[i][1:]]['Nom_com']))"
   ]
  },
  {
   "cell_type": "code",
   "execution_count": 18,
   "metadata": {},
   "outputs": [],
   "source": [
    "db_display_value['Proche_voisin'] = proche_voisin"
   ]
  },
  {
   "cell_type": "markdown",
   "metadata": {},
   "source": [
    "# Exports des données "
   ]
  },
  {
   "cell_type": "markdown",
   "metadata": {},
   "source": [
    "Export des seuils pour clément"
   ]
  },
  {
   "cell_type": "markdown",
   "metadata": {},
   "source": [
    "1ere version "
   ]
  },
  {
   "cell_type": "code",
   "execution_count": 20,
   "metadata": {},
   "outputs": [],
   "source": [
    "# d = {}\n",
    "# for name in X.columns:\n",
    "#     median = X[name].median()\n",
    "#     sd = X[name].std()\n",
    "#     d[name] = [{'jaune':X[name].median,'milieu':X[name].quantile(0.5),'haut':X[name].quantile(0.75),'sd':sd}]"
   ]
  },
  {
   "cell_type": "markdown",
   "metadata": {},
   "source": [
    "2e version"
   ]
  },
  {
   "cell_type": "code",
   "execution_count": 69,
   "metadata": {},
   "outputs": [
    {
     "data": {
      "text/plain": [
       "0.005681818181818182"
      ]
     },
     "execution_count": 69,
     "metadata": {},
     "output_type": "execute_result"
    }
   ],
   "source": [
    "db['PRP16'].quantile(0.5)"
   ]
  },
  {
   "cell_type": "code",
   "execution_count": 70,
   "metadata": {},
   "outputs": [],
   "source": [
    "d_seuil = {\"RFM16\":19554.0,\"TN16\":8.0,\"PPMsD16\":0.0009156237049825108,\"NSP19\":0,\"DP16\":61.7,\"PGP19\":0,\"PGP19_>60\":0,\n",
    "              \"PC16_24_64\":0.0473,\"PC16_15_24\":0.00986,\"PPop16_<18\":0.222,\"PPop16_>65\":0.1964,\"PRP16\":0.0056}"
   ]
  },
  {
   "cell_type": "code",
   "execution_count": 72,
   "metadata": {},
   "outputs": [],
   "source": [
    "with open('seuils.json', 'w', encoding='utf8') as file:\n",
    "     file.write(json.dumps(d_seuil, ensure_ascii=False))"
   ]
  },
  {
   "cell_type": "markdown",
   "metadata": {},
   "source": [
    "Export du jeu de données final"
   ]
  },
  {
   "cell_type": "code",
   "execution_count": 76,
   "metadata": {},
   "outputs": [],
   "source": [
    "with open('data.json', 'w', encoding='utf8') as file:\n",
    "     file.write(json.dumps(d_value, ensure_ascii=False))"
   ]
  },
  {
   "cell_type": "code",
   "execution_count": 77,
   "metadata": {},
   "outputs": [],
   "source": [
    "with open('data_display.json', 'w', encoding='utf8') as file:\n",
    "     file.write(json.dumps(d_display, ensure_ascii=False))"
   ]
  }
 ],
 "metadata": {
  "kernelspec": {
   "display_name": "Python 3",
   "language": "python",
   "name": "python3"
  },
  "language_info": {
   "codemirror_mode": {
    "name": "ipython",
    "version": 3
   },
   "file_extension": ".py",
   "mimetype": "text/x-python",
   "name": "python",
   "nbconvert_exporter": "python",
   "pygments_lexer": "ipython3",
   "version": "3.7.6"
  }
 },
 "nbformat": 4,
 "nbformat_minor": 4
}
