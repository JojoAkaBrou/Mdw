{
 "cells": [
  {
   "cell_type": "markdown",
   "metadata": {},
   "source": [
    "# Import des modules"
   ]
  },
  {
   "cell_type": "code",
   "execution_count": 1,
   "metadata": {},
   "outputs": [],
   "source": [
    "import glob\n",
    "import pandas as pd"
   ]
  },
  {
   "cell_type": "markdown",
   "metadata": {},
   "source": [
    "# Lecture des données "
   ]
  },
  {
   "cell_type": "markdown",
   "metadata": {},
   "source": [
    "Données venant du Sirsé et cartosanté"
   ]
  },
  {
   "cell_type": "code",
   "execution_count": 2,
   "metadata": {},
   "outputs": [],
   "source": [
    "liste = glob.glob('*.csv')\n",
    "for i in range(len(liste)):\n",
    "    if i == 0 :\n",
    "        db = pd.read_csv(liste[i], skiprows=2, sep=';', encoding=\"utf-8\", low_memory=False)\n",
    "    else:\n",
    "        db_temp = pd.read_csv(liste[i], skiprows=2, sep=';', encoding=\"utf-8\", low_memory=False)\n",
    "        try:\n",
    "            db_temp.drop('Libellé',axis=1, inplace=True)\n",
    "        except:\n",
    "            pass\n",
    "        db = db.merge(db_temp, left_on='Code', right_on='Code', how='inner')"
   ]
  },
  {
   "cell_type": "markdown",
   "metadata": {},
   "source": [
    "Données de l'insee sur les codes de départements et regions"
   ]
  },
  {
   "cell_type": "code",
   "execution_count": 3,
   "metadata": {},
   "outputs": [],
   "source": [
    "dep = pd.read_csv(\"../dep/communes-departement-region.csv\", sep=\",\", encoding=\"utf-8\")\n",
    "#dep = dep.groupby(['code_commune_INSEE']).count().reset_index()\n",
    "dep['code_commune_INSEE'] = dep['code_commune_INSEE'].apply(lambda x: '0'+str(x) if(len(str(x)) == 4) else str(x))\n",
    "dep['code_postal'] = dep['code_postal'].apply(lambda x: '0'+str(x) if(len(str(x)) == 4) else str(x))\n",
    "dep['code_dep'] = dep['code_commune_INSEE'].str[:2]\n",
    "dep = dep[['code_dep','code_commune_INSEE', \n",
    "     'nom_departement','nom_region','code_postal',\n",
    "     'code_region','longitude','latitude']]"
   ]
  },
  {
   "cell_type": "markdown",
   "metadata": {},
   "source": [
    "# Modification des noms des colonnes"
   ]
  },
  {
   "cell_type": "code",
   "execution_count": 4,
   "metadata": {},
   "outputs": [
    {
     "data": {
      "text/plain": [
       "Index(['Code', 'Libellé', 'Nbre de généralistes lib. au 31/12 2019',\n",
       "       'Nbre de généralistes lib. au 31/12 2019.1',\n",
       "       'Population des moins de 18 ans 2016',\n",
       "       'Nombre de chômeurs chez les 15-64 ans (RP) 2016',\n",
       "       'Nombre de chômeurs chez les 15-24 ans (RP) 2016',\n",
       "       'Nombre de résidences principales en HLM 2016',\n",
       "       'Revenu fiscal médian 2016', 'Population des 65 ans ou plus 2016',\n",
       "       'Taux de natalité 2016', 'Population municipale 2016'],\n",
       "      dtype='object')"
      ]
     },
     "execution_count": 4,
     "metadata": {},
     "output_type": "execute_result"
    }
   ],
   "source": [
    "db.columns"
   ]
  },
  {
   "cell_type": "code",
   "execution_count": 5,
   "metadata": {
    "scrolled": true
   },
   "outputs": [],
   "source": [
    "db.columns = ['Code','Nom_com', 'NG19_60>', 'NG19T',\n",
    "              'Pop16_<18', 'NC16_15_64','NC16_15_24',\n",
    "              'NRP16','RFM16','Pop16_>65','TN16','PM16']"
   ]
  },
  {
   "cell_type": "markdown",
   "metadata": {},
   "source": [
    "# Jointure des données"
   ]
  },
  {
   "cell_type": "code",
   "execution_count": 6,
   "metadata": {},
   "outputs": [
    {
     "name": "stderr",
     "output_type": "stream",
     "text": [
      "C:\\Users\\joaka\\anaconda3\\lib\\site-packages\\pandas\\core\\frame.py:3997: SettingWithCopyWarning: \n",
      "A value is trying to be set on a copy of a slice from a DataFrame\n",
      "\n",
      "See the caveats in the documentation: https://pandas.pydata.org/pandas-docs/stable/user_guide/indexing.html#returning-a-view-versus-a-copy\n",
      "  errors=errors,\n"
     ]
    }
   ],
   "source": [
    "merged_data = pd.merge(db,dep, left_on= \"Code\", right_on =\"code_commune_INSEE\", how=\"left\")\n",
    "data = pd.DataFrame(merged_data['Code'].value_counts() == 1)\n",
    "liste_code_commune = data[data['Code']==True].index\n",
    "merged_data_one = merged_data[merged_data['Code'].isin(liste_code_commune)]\n",
    "#merged_data_one['code_region'] = merged_data_one['code_region'].astype(int).astype(str)\n",
    "merged_data_one.drop([\"Code\",\"longitude\",\"latitude\"], axis=1, inplace=True)"
   ]
  },
  {
   "cell_type": "code",
   "execution_count": 7,
   "metadata": {},
   "outputs": [],
   "source": [
    "merged_data_one.to_csv(\"output_data.csv\")"
   ]
  }
 ],
 "metadata": {
  "kernelspec": {
   "display_name": "Python 3",
   "language": "python",
   "name": "python3"
  },
  "language_info": {
   "codemirror_mode": {
    "name": "ipython",
    "version": 3
   },
   "file_extension": ".py",
   "mimetype": "text/x-python",
   "name": "python",
   "nbconvert_exporter": "python",
   "pygments_lexer": "ipython3",
   "version": "3.7.6"
  }
 },
 "nbformat": 4,
 "nbformat_minor": 4
}
